{
 "cells": [
  {
   "cell_type": "code",
   "execution_count": 1,
   "id": "4afa2783-1a77-44f0-985b-30260c807854",
   "metadata": {},
   "outputs": [
    {
     "ename": "ModuleNotFoundError",
     "evalue": "No module named 'autograd'",
     "output_type": "error",
     "traceback": [
      "\u001b[0;31m---------------------------------------------------------------------------\u001b[0m",
      "\u001b[0;31mModuleNotFoundError\u001b[0m                       Traceback (most recent call last)",
      "\u001b[0;32m/tmp/ipykernel_77976/4270095505.py\u001b[0m in \u001b[0;36m<module>\u001b[0;34m\u001b[0m\n\u001b[1;32m      6\u001b[0m \u001b[0;32mfrom\u001b[0m \u001b[0msklearn\u001b[0m\u001b[0;34m.\u001b[0m\u001b[0mpreprocessing\u001b[0m \u001b[0;32mimport\u001b[0m \u001b[0mPolynomialFeatures\u001b[0m\u001b[0;34m\u001b[0m\u001b[0;34m\u001b[0m\u001b[0m\n\u001b[1;32m      7\u001b[0m \u001b[0;32mfrom\u001b[0m \u001b[0msklearn\u001b[0m\u001b[0;34m.\u001b[0m\u001b[0mmodel_selection\u001b[0m \u001b[0;32mimport\u001b[0m \u001b[0mKFold\u001b[0m\u001b[0;34m\u001b[0m\u001b[0;34m\u001b[0m\u001b[0m\n\u001b[0;32m----> 8\u001b[0;31m \u001b[0;32mimport\u001b[0m \u001b[0mautograd\u001b[0m\u001b[0;34m.\u001b[0m\u001b[0mnumpy\u001b[0m \u001b[0;32mas\u001b[0m \u001b[0mnp\u001b[0m\u001b[0;34m\u001b[0m\u001b[0;34m\u001b[0m\u001b[0m\n\u001b[0m\u001b[1;32m      9\u001b[0m \u001b[0;32mfrom\u001b[0m \u001b[0mautograd\u001b[0m \u001b[0;32mimport\u001b[0m \u001b[0mgrad\u001b[0m\u001b[0;34m\u001b[0m\u001b[0;34m\u001b[0m\u001b[0m\n\u001b[1;32m     10\u001b[0m \u001b[0;34m\u001b[0m\u001b[0m\n",
      "\u001b[0;31mModuleNotFoundError\u001b[0m: No module named 'autograd'"
     ]
    }
   ],
   "source": [
    "import matplotlib.pyplot as plt\n",
    "from sklearn.model_selection import train_test_split\n",
    "from sklearn.datasets import load_breast_cancer\n",
    "from sklearn.linear_model import LogisticRegression\n",
    "from sklearn.preprocessing import StandardScaler\n",
    "from sklearn.preprocessing import PolynomialFeatures\n",
    "from sklearn.model_selection import KFold\n",
    "import autograd.numpy as np\n",
    "from autograd import grad\n",
    "                                                                           \n",
    "np.random.seed(100)"
   ]
  },
  {
   "cell_type": "code",
   "execution_count": 2,
   "id": "8a1be7f1-35a0-4e8f-b682-ff1583034ac6",
   "metadata": {},
   "outputs": [],
   "source": [
    "def cross_entropy_loss(X, y, beta ):\n",
    "  if X.shape[0] != len(y):\n",
    "    raise TypeError(\"The number of datapoints must match between X and y\")\n",
    "  else:\n",
    "    n = len(y)\n",
    "    Lambda = 0.001  # l2 regularization weight\n",
    "    y= y.reshape(-1,1)\n",
    "    beta = beta.reshape(-1,1)\n",
    "    p = np.exp(X @ beta) /(1+ np.exp(X @ beta))\n",
    "    label_probabilities = np.log(p)* y + np.log(1 - p) * (1 - y) \n",
    "    cost = -(np.sum(label_probabilities)) \n",
    "    #print(cost)\n",
    "  return cost\n",
    "\n",
    "\n",
    "def design_matrix(x_train, x_test):\n",
    "  #now scale the data\n",
    "  from sklearn.preprocessing import StandardScaler\n",
    "  scaler = StandardScaler()\n",
    "  scaler.fit(X_train)\n",
    "  X_train_scaled = scaler.transform(X_train)\n",
    "  X_test_scaled = scaler.transform(X_test)\n",
    "\n",
    "  return X_train , X_test\n",
    "\n",
    "\n",
    "def simple_SGD(X_train_scaled, y_train, beta , Minibatch_size = 5 ,lr_eta = 0.1):\n",
    "  if X_train_scaled.shape[0] != len(y_train):\n",
    "    raise TypeError(\"The number of datapoints must match between X and y\")\n",
    "  else:\n",
    "    n = len(y_train)  #number of datapoints\n",
    "    m = int(n/Minibatch_size) #number of minibatches\n",
    "    n_epochs = 1000 #number of epochs\n",
    "    batch_indices= {}\n",
    "        \n",
    "    if m == 1:\n",
    "      batch_indices[0] = np.arange(len(y_train))\n",
    "    else:\n",
    "      kf= KFold(n_splits = m)\n",
    "      for k,(_, test_index) in enumerate(kf.split(X_train_scaled)):\n",
    "        batch_indices[k] = test_index\n",
    "            \n",
    "    for epoch in range(1,n_epochs+1):\n",
    "      for i in range(m):\n",
    "        chosen_batch = np.random.randint(m)\n",
    "\n",
    "        #Pick minibatch corresponding to 'chosen_batch'\n",
    "        X_train_minibatch = X_train_scaled[batch_indices[chosen_batch ]]\n",
    "        y_train_minibatch = y_train[batch_indices[chosen_batch ]]   \n",
    "\n",
    "        #Compute the gradient using the data in minibatch Bk\n",
    "        # Compute gradients using grad\n",
    "        gradients = grad(cross_entropy_loss,2)   # 2 refers to the parameter with respect to whcih to find derivative\n",
    "\n",
    "        #Compute new suggestion for beta\n",
    "        beta -= lr_eta*gradients(X_train_minibatch, y_train_minibatch, beta)    \n",
    "        #print(beta)\n",
    "        \n",
    "  return beta"
   ]
  },
  {
   "cell_type": "markdown",
   "id": "cc57098f-aadf-4fd3-8395-f26ba156b2cb",
   "metadata": {},
   "source": [
    "# Example from lecture notes"
   ]
  },
  {
   "cell_type": "code",
   "execution_count": null,
   "id": "abb42d8d-136e-4b89-9d26-f39f4178467f",
   "metadata": {},
   "outputs": [],
   "source": [
    "# Build a toy dataset.\n",
    "inputs = np.array([[0.52, 1.12, 0.77],\n",
    "[0.88, -1.08, 0.15],\n",
    "[0.52, 0.06, -1.30],\n",
    "[0.74, -2.49, 1.39]])\n",
    "targets = np.array([True, True, False, True])\n",
    "\n",
    "\n",
    "# Optimize weights using gradient descent.\n",
    "weights = np.array([0.0, 0.0, 0.0])\n",
    "print(\"Initial loss:\", cross_entropy_loss(inputs, targets,weights))\n",
    "\n",
    "weights_opt =  simple_SGD(inputs, targets, weights, Minibatch_size = len(targets),lr_eta = 0.01)\n",
    "print(\"Trained loss:\", cross_entropy_loss(inputs, targets,weights))\n",
    "print(\"Weights :\",weights)\n"
   ]
  },
  {
   "cell_type": "markdown",
   "id": "d0565fec-81c0-4a4c-8c25-06af66e16562",
   "metadata": {},
   "source": [
    "# Part g) Logistic Regression code (Wisconsin)"
   ]
  },
  {
   "cell_type": "code",
   "execution_count": null,
   "id": "abfd1c57-b51f-454a-a590-6e3b7c617e2c",
   "metadata": {},
   "outputs": [],
   "source": [
    "# Load the data\n",
    "cancer = load_breast_cancer()\n",
    "X, y =cancer.data,cancer.target\n",
    "\n",
    "## Cross-validation based Logistic regression\n",
    "ksplits = 5\n",
    "kfold = KFold(n_splits = ksplits )\n",
    "lr_eta = [1e-1]\n",
    "\n",
    "est_test_acc = np.zeros((len(lr_eta), ksplits ))\n",
    "\n",
    "for n_lr,lr in  enumerate(lr_eta):\n",
    "\n",
    "  ## split the data into 5 folds and evaluate performance \n",
    "  for fold, (train_ind, test_ind) in enumerate(kfold.split(X)):\n",
    "    print('Fold', fold+1)\n",
    "    X_train , X_test = X[train_ind], X[test_ind]\n",
    "    y_train, y_test = y[train_ind], y[test_ind]\n",
    "\n",
    "    ## Create design matrix with standard scaling\n",
    "    X_train_scaled, X_test_scaled  = design_matrix(X_train, X_test)\n",
    "    \n",
    "    # Randomly initialize the beta values\n",
    "    #beta = np.random.randn(X_train_scaled.shape[1],1)\n",
    "    beta = np.zeros((X_train_scaled.shape[1],1))\n",
    "    \n",
    "    print('Cross Entropy loss:',cross_entropy_loss(X_train_scaled, y_train, beta))\n",
    "    \n",
    "    # optimize betas using simple_sgd\n",
    "    beta_opt =  simple_SGD(X_train, y_train, beta, Minibatch_size = len(y_train), lr_eta = lr)\n",
    "\n",
    "    print('Cross Entropy loss:',cross_entropy_loss(X_train, y_train, beta_opt))\n",
    "\n",
    "    break\n",
    "    \n",
    "    # find accuracy on test set with beta_opt\n",
    "    y_pred = X_test_scaled @ beta_opt\n",
    "    \n",
    "    #est_test_acc[n_lr , fold] = np.mean(y_pred== y_test)\n",
    "\n",
    "\n",
    "\n",
    "#print(est_test_acc)"
   ]
  },
  {
   "cell_type": "markdown",
   "id": "7fe696b8-ab2e-4567-b6f1-9f0eb7f6553e",
   "metadata": {},
   "source": [
    "# Part g) Scikit Learn's Logistic Regression"
   ]
  },
  {
   "cell_type": "code",
   "execution_count": null,
   "id": "3441701e-18ba-49c5-b988-82b50e1a96a8",
   "metadata": {},
   "outputs": [],
   "source": [
    "import matplotlib.pyplot as plt\n",
    "import numpy as np\n",
    "from sklearn.model_selection import  train_test_split \n",
    "from sklearn.datasets import load_breast_cancer\n",
    "from sklearn.linear_model import LogisticRegression\n",
    "\n",
    "# Load the data\n",
    "cancer = load_breast_cancer()\n",
    "\n",
    "X_train, X_test, y_train, y_test = train_test_split(cancer.data,cancer.target,random_state=0)\n",
    "print(X_train.shape)\n",
    "print(X_test.shape)\n",
    "# Logistic Regression\n",
    "logreg = LogisticRegression(solver='lbfgs')\n",
    "logreg.fit(X_train, y_train)\n",
    "print(\"Test set accuracy with Logistic Regression: {:.2f}\".format(logreg.score(X_test,y_test)))\n",
    "\n",
    "\n",
    "#now scale the data\n",
    "from sklearn.preprocessing import StandardScaler\n",
    "scaler = StandardScaler()\n",
    "scaler.fit(X_train)\n",
    "X_train_scaled = scaler.transform(X_train)\n",
    "X_test_scaled = scaler.transform(X_test)\n",
    "# Logistic Regression\n",
    "logreg.fit(X_train_scaled, y_train)\n",
    "print(\"Test set accuracy Logistic Regression with scaled data: {:.2f}\".format(logreg.score(X_test_scaled,y_test)))"
   ]
  },
  {
   "cell_type": "code",
   "execution_count": null,
   "id": "63f84de0-d172-4baf-976d-875f7ab2a4a5",
   "metadata": {},
   "outputs": [],
   "source": []
  }
 ],
 "metadata": {
  "kernelspec": {
   "display_name": "Python 3 (ipykernel)",
   "language": "python",
   "name": "python3"
  },
  "language_info": {
   "codemirror_mode": {
    "name": "ipython",
    "version": 3
   },
   "file_extension": ".py",
   "mimetype": "text/x-python",
   "name": "python",
   "nbconvert_exporter": "python",
   "pygments_lexer": "ipython3",
   "version": "3.9.7"
  }
 },
 "nbformat": 4,
 "nbformat_minor": 5
}

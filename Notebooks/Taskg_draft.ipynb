{
 "cells": [
  {
   "cell_type": "code",
   "execution_count": 1,
   "metadata": {
    "id": "9g1YINo8MTRV"
   },
   "outputs": [],
   "source": [
    "import matplotlib.pyplot as plt\n",
    "from sklearn.model_selection import train_test_split\n",
    "from sklearn.datasets import load_breast_cancer\n",
    "from sklearn.linear_model import LogisticRegression\n",
    "from sklearn.preprocessing import StandardScaler\n",
    "from sklearn.preprocessing import PolynomialFeatures\n",
    "from sklearn.model_selection import KFold\n",
    "import autograd.numpy as np\n",
    "from autograd import grad\n",
    "                                                                           \n",
    "np.random.seed(100)\n"
   ]
  },
  {
   "cell_type": "code",
   "execution_count": 2,
   "metadata": {
    "id": "dNs2OoSGwvtp"
   },
   "outputs": [],
   "source": [
    "def cross_entropy_loss(X, y, beta ):\n",
    "  if X.shape[0] != len(y):\n",
    "    raise TypeError(\"The number of datapoints must match between X and y\")\n",
    "  else:\n",
    "    n = len(y)\n",
    "    y = y.reshape(-1,1)\n",
    "    Lambda = 0.001  # l2 regularization weight\n",
    "    p = np.exp(X @ beta)/ (1+ np.exp(X @ beta))\n",
    "    cost = np.sum((y* np.log(p) + (1-y)*np.log(1-p))) + Lambda*(np.sum(beta**2))\n",
    "  return cost\n",
    "\n",
    "\n",
    "def design_matrix(x_train, x_test):\n",
    "  # Introduce bias and polynomials, if necessary\n",
    "  poly = PolynomialFeatures(degree = 1)\n",
    "  X_train= poly.fit_transform(x_train)\n",
    "  X_test= poly.fit_transform(x_test)\n",
    "\n",
    "  # Z-score the design matrix except the bias\n",
    "  mean = np.mean(X_train[:,1:] , axis=0)\n",
    "  std = np.std(X_train[:,1:] , axis=0) \n",
    "\n",
    "  X_train[:,1:] = X_train[:,1:] - mean / std\n",
    "  X_test[:,1:] = X_test[:,1:] - mean / std\n",
    "\n",
    "  return X_train , X_test\n",
    "\n",
    "\n",
    "def simple_SGD(X_train_scaled, y_train, beta ,lr_eta = 0.1):\n",
    "  if X_train_scaled.shape[0] != len(y_train):\n",
    "    raise TypeError(\"The number of datapoints must match between X and y\")\n",
    "  else:\n",
    "    n = len(y_train)  #number of datapoints\n",
    "    M = 5  #size of each minibatch\n",
    "    m = int(n/M) #number of minibatches\n",
    "    n_epochs = 100 #number of epochs\n",
    "    batch_indices= {}\n",
    "\n",
    "    kf= KFold(n_splits = m)\n",
    "    for k,(_, test_index) in enumerate(kf.split(X_train_scaled)):\n",
    "      batch_indices[k] = test_index\n",
    "          \n",
    "    for epoch in range(1,n_epochs+1):\n",
    "      for i in range(m):\n",
    "        chosen_batch = np.random.randint(m)\n",
    "\n",
    "        #Pick minibatch corresponding to 'chosen_batch'\n",
    "        X_train_minibatch = X_train_scaled[batch_indices[chosen_batch ]]\n",
    "        y_train_minibatch = y_train[batch_indices[chosen_batch ]]     \n",
    "\n",
    "        #Compute the gradient using the data in minibatch Bk\n",
    "        # Compute gradients using grad\n",
    "        #p = np.exp(X_train_minibatch @ beta) / (1 + np.exp(X_train_minibatch @ beta))\n",
    "        #gradients = - (X_train_minibatch.T @ (y_train_minibatch.reshape(-1,1) - p.reshape(-1,1)) + (2*0.001*beta) )\n",
    "\n",
    "        gradients = grad(cross_entropy_loss,2)\n",
    "        \n",
    "        #Compute new suggestion for beta\n",
    "        beta -= lr_eta*gradients(X_train_minibatch, y_train_minibatch, beta)\n",
    "\n",
    "  return beta\n",
    "\n",
    "\n",
    "\n",
    "\n",
    "\n"
   ]
  },
  {
   "cell_type": "markdown",
   "metadata": {
    "id": "eMVDJotso2DK"
   },
   "source": [
    "## Part g) Logistic Regression code (own)"
   ]
  },
  {
   "cell_type": "code",
   "execution_count": 3,
   "metadata": {
    "colab": {
     "base_uri": "https://localhost:8080/"
    },
    "id": "VP_brga30CMv",
    "outputId": "10db919b-96cb-4cac-fc55-281f6f384037"
   },
   "outputs": [
    {
     "name": "stdout",
     "output_type": "stream",
     "text": [
      "Fold 1\n"
     ]
    },
    {
     "name": "stderr",
     "output_type": "stream",
     "text": [
      "/usr/local/lib/python3.7/dist-packages/autograd/tracer.py:48: RuntimeWarning: overflow encountered in exp\n",
      "  return f_raw(*args, **kwargs)\n",
      "/usr/local/lib/python3.7/dist-packages/autograd/tracer.py:48: RuntimeWarning: invalid value encountered in true_divide\n",
      "  return f_raw(*args, **kwargs)\n",
      "/usr/local/lib/python3.7/dist-packages/autograd/tracer.py:48: RuntimeWarning: divide by zero encountered in log\n",
      "  return f_raw(*args, **kwargs)\n",
      "/usr/local/lib/python3.7/dist-packages/autograd/tracer.py:48: RuntimeWarning: invalid value encountered in multiply\n",
      "  return f_raw(*args, **kwargs)\n",
      "/usr/local/lib/python3.7/dist-packages/autograd/numpy/numpy_vjps.py:78: RuntimeWarning: invalid value encountered in true_divide\n",
      "  defvjp(anp.log,    lambda ans, x : lambda g: g / x)\n",
      "/usr/local/lib/python3.7/dist-packages/autograd/numpy/numpy_vjps.py:53: RuntimeWarning: overflow encountered in square\n",
      "  lambda ans, x, y : unbroadcast_f(y, lambda g: - g * x / y**2))\n"
     ]
    },
    {
<<<<<<< HEAD
     "name": "stdout",
     "output_type": "stream",
     "text": [
      "Cross Entropy loss: nan\n",
      "Fold 2\n"
     ]
    },
    {
     "name": "stderr",
     "output_type": "stream",
     "text": [
      "/usr/local/lib/python3.7/dist-packages/autograd/tracer.py:48: RuntimeWarning: divide by zero encountered in log\n",
      "  return f_raw(*args, **kwargs)\n",
      "/usr/local/lib/python3.7/dist-packages/autograd/tracer.py:48: RuntimeWarning: invalid value encountered in multiply\n",
      "  return f_raw(*args, **kwargs)\n",
      "/usr/local/lib/python3.7/dist-packages/autograd/numpy/numpy_vjps.py:78: RuntimeWarning: invalid value encountered in true_divide\n",
      "  defvjp(anp.log,    lambda ans, x : lambda g: g / x)\n"
     ]
    },
    {
     "name": "stdout",
     "output_type": "stream",
     "text": [
      "Cross Entropy loss: nan\n",
      "Fold 3\n"
     ]
=======
      "cell_type": "code",
      "metadata": {
        "id": "dNs2OoSGwvtp"
      },
      "source": [
        "\n",
        "def cross_entropy_loss(X, y, beta ):\n",
        "  if X.shape[0] != len(y):\n",
        "    raise TypeError(\"The number of datapoints must match between X and y\")\n",
        "  else:\n",
        "    n = len(y)\n",
        "    Lambda = 0.001  # l2 regularization weight\n",
        "    y= y.reshape(-1,1)\n",
        "    beta = beta.reshape(-1,1)\n",
        "    p = np.exp(X @ beta) /(1+ np.exp(X @ beta))\n",
        "    label_probabilities = np.log(p)* y + np.log(1 - p) * (1 - y) \n",
        "    cost = -(np.sum(label_probabilities)) \n",
        "    #print(cost)\n",
        "  return cost\n",
        "\n",
        "\n",
        "def design_matrix(x_train, x_test):\n",
        "  #now scale the data\n",
        "  from sklearn.preprocessing import StandardScaler\n",
        "  scaler = StandardScaler()\n",
        "  scaler.fit(X_train)\n",
        "  X_train_scaled = scaler.transform(X_train)\n",
        "  X_test_scaled = scaler.transform(X_test)\n",
        "\n",
        "  return X_train , X_test\n",
        "\n",
        "\n",
        "def simple_SGD(X_train_scaled, y_train, beta , Minibatch_size = 5 ,lr_eta = 0.1):\n",
        "  if X_train_scaled.shape[0] != len(y_train):\n",
        "    raise TypeError(\"The number of datapoints must match between X and y\")\n",
        "  else:\n",
        "    n = len(y_train)  #number of datapoints\n",
        "    m = int(n/Minibatch_size) #number of minibatches\n",
        "    n_epochs = 1000 #number of epochs\n",
        "    batch_indices= {}\n",
        "        \n",
        "    if m == 1:\n",
        "      batch_indices[0] = np.arange(len(y_train))\n",
        "    else:\n",
        "      kf= KFold(n_splits = m)\n",
        "      for k,(_, test_index) in enumerate(kf.split(X_train_scaled)):\n",
        "        batch_indices[k] = test_index\n",
        "            \n",
        "    for epoch in range(1,n_epochs+1):\n",
        "      for i in range(m):\n",
        "        chosen_batch = np.random.randint(m)\n",
        "\n",
        "        #Pick minibatch corresponding to 'chosen_batch'\n",
        "        X_train_minibatch = X_train_scaled[batch_indices[chosen_batch ]]\n",
        "        y_train_minibatch = y_train[batch_indices[chosen_batch ]]   \n",
        "\n",
        "        #Compute the gradient using the data in minibatch Bk\n",
        "        # Compute gradients using grad\n",
        "        gradients = grad(cross_entropy_loss,2)   # 2 refers to the parameter with respect to whcih to find derivative\n",
        "\n",
        "        #Compute new suggestion for beta\n",
        "        beta -= lr_eta*gradients(X_train_minibatch, y_train_minibatch, beta)    \n",
        "        #print(beta)\n",
        "        \n",
        "  return beta\n",
        "\n",
        "\n",
        "\n",
        "\n",
        "\n"
      ],
      "execution_count": 2,
      "outputs": []
    },
    {
      "cell_type": "markdown",
      "metadata": {
        "id": "VvWJuUZoxS-Z"
      },
      "source": [
        "## Example from lecture notes"
      ]
    },
    {
      "cell_type": "code",
      "metadata": {
        "colab": {
          "base_uri": "https://localhost:8080/"
        },
        "id": "Hd_0bkO6HU7E",
        "outputId": "1a81c655-c1d4-4623-a38c-7c7712f9714c"
      },
      "source": [
        "# Build a toy dataset.\n",
        "inputs = np.array([[0.52, 1.12, 0.77],\n",
        "[0.88, -1.08, 0.15],\n",
        "[0.52, 0.06, -1.30],\n",
        "[0.74, -2.49, 1.39]])\n",
        "targets = np.array([True, True, False, True])\n",
        "\n",
        "\n",
        "# Optimize weights using gradient descent.\n",
        "weights = np.array([0.0, 0.0, 0.0])\n",
        "print(\"Initial loss:\", cross_entropy_loss(inputs, targets,weights))\n",
        "\n",
        "weights_opt =  simple_SGD(inputs, targets, weights, Minibatch_size = len(targets),lr_eta = 0.01)\n",
        "print(\"Trained loss:\", cross_entropy_loss(inputs, targets,weights))\n",
        "print(\"Weights :\",weights)\n"
      ],
      "execution_count": 3,
      "outputs": [
        {
          "output_type": "stream",
          "name": "stdout",
          "text": [
            "Initial loss: 2.772588722239781\n",
            "Trained loss: 0.16931787838606815\n",
            "Weights : [ 1.76493082 -0.53430291  3.19618454]\n"
          ]
        }
      ]
    },
    {
      "cell_type": "markdown",
      "metadata": {
        "id": "eMVDJotso2DK"
      },
      "source": [
        "## Part g) Logistic Regression code (Wisconsin)"
      ]
    },
    {
      "cell_type": "code",
      "metadata": {
        "colab": {
          "base_uri": "https://localhost:8080/"
        },
        "id": "VP_brga30CMv",
        "outputId": "e3e080c1-dfa4-473b-bf6d-9fd028bd923d"
      },
      "source": [
        "# Load the data\n",
        "cancer = load_breast_cancer()\n",
        "X, y =cancer.data,cancer.target\n",
        "\n",
        "## Cross-validation based Logistic regression\n",
        "ksplits = 5\n",
        "kfold = KFold(n_splits = ksplits )\n",
        "lr_eta = [1e-1]\n",
        "\n",
        "est_test_acc = np.zeros((len(lr_eta), ksplits ))\n",
        "\n",
        "for n_lr,lr in  enumerate(lr_eta):\n",
        "\n",
        "  ## split the data into 5 folds and evaluate performance \n",
        "  for fold, (train_ind, test_ind) in enumerate(kfold.split(X)):\n",
        "    print('Fold', fold+1)\n",
        "    X_train , X_test = X[train_ind], X[test_ind]\n",
        "    y_train, y_test = y[train_ind], y[test_ind]\n",
        "\n",
        "    ## Create design matrix with standard scaling\n",
        "    X_train_scaled, X_test_scaled  = design_matrix(X_train, X_test)\n",
        "    \n",
        "    # Randomly initialize the beta values\n",
        "    #beta = np.random.randn(X_train_scaled.shape[1],1)\n",
        "    beta = np.zeros((X_train_scaled.shape[1],1))\n",
        "    \n",
        "    print('Cross Entropy loss:',cross_entropy_loss(X_train_scaled, y_train, beta))\n",
        "    \n",
        "    # optimize betas using simple_sgd\n",
        "    beta_opt =  simple_SGD(X_train, y_train, beta, Minibatch_size = len(y_train), lr_eta = lr)\n",
        "\n",
        "    print('Cross Entropy loss:',cross_entropy_loss(X_train, y_train, beta_opt))\n",
        "\n",
        "    break\n",
        "    \n",
        "    # find accuracy on test set with beta_opt\n",
        "    y_pred = X_test_scaled @ beta_opt\n",
        "    \n",
        "    #est_test_acc[n_lr , fold] = np.mean(y_pred== y_test)\n",
        "\n",
        "\n",
        "\n",
        "#print(est_test_acc)\n",
        "\n"
      ],
      "execution_count": 4,
      "outputs": [
        {
          "output_type": "stream",
          "name": "stdout",
          "text": [
            "Fold 1\n",
            "Cross Entropy loss: 315.3819671547751\n"
          ]
        },
        {
          "output_type": "stream",
          "name": "stderr",
          "text": [
            "/usr/local/lib/python3.7/dist-packages/autograd/tracer.py:48: RuntimeWarning: divide by zero encountered in log\n",
            "  return f_raw(*args, **kwargs)\n",
            "/usr/local/lib/python3.7/dist-packages/autograd/tracer.py:48: RuntimeWarning: invalid value encountered in multiply\n",
            "  return f_raw(*args, **kwargs)\n",
            "/usr/local/lib/python3.7/dist-packages/autograd/numpy/numpy_vjps.py:78: RuntimeWarning: divide by zero encountered in true_divide\n",
            "  defvjp(anp.log,    lambda ans, x : lambda g: g / x)\n",
            "/usr/local/lib/python3.7/dist-packages/autograd/numpy/numpy_vjps.py:78: RuntimeWarning: invalid value encountered in true_divide\n",
            "  defvjp(anp.log,    lambda ans, x : lambda g: g / x)\n",
            "/usr/local/lib/python3.7/dist-packages/autograd/numpy/numpy_vjps.py:53: RuntimeWarning: invalid value encountered in multiply\n",
            "  lambda ans, x, y : unbroadcast_f(y, lambda g: - g * x / y**2))\n",
            "/usr/local/lib/python3.7/dist-packages/autograd/numpy/numpy_vjps.py:75: RuntimeWarning: invalid value encountered in multiply\n",
            "  defvjp(anp.exp,    lambda ans, x : lambda g: ans * g)\n"
          ]
        },
        {
          "output_type": "stream",
          "name": "stdout",
          "text": [
            "Cross Entropy loss: nan\n"
          ]
        }
      ]
>>>>>>> d3c441ce0e5cf21490c7da953b571ce6ab980181
    },
    {
     "name": "stderr",
     "output_type": "stream",
     "text": [
      "/usr/local/lib/python3.7/dist-packages/autograd/tracer.py:48: RuntimeWarning: divide by zero encountered in log\n",
      "  return f_raw(*args, **kwargs)\n",
      "/usr/local/lib/python3.7/dist-packages/autograd/numpy/numpy_vjps.py:78: RuntimeWarning: divide by zero encountered in true_divide\n",
      "  defvjp(anp.log,    lambda ans, x : lambda g: g / x)\n",
      "/usr/local/lib/python3.7/dist-packages/autograd/numpy/numpy_vjps.py:53: RuntimeWarning: invalid value encountered in multiply\n",
      "  lambda ans, x, y : unbroadcast_f(y, lambda g: - g * x / y**2))\n",
      "/usr/local/lib/python3.7/dist-packages/autograd/numpy/numpy_vjps.py:75: RuntimeWarning: invalid value encountered in multiply\n",
      "  defvjp(anp.exp,    lambda ans, x : lambda g: ans * g)\n"
     ]
    },
    {
<<<<<<< HEAD
     "name": "stdout",
     "output_type": "stream",
     "text": [
      "Cross Entropy loss: nan\n",
      "Fold 4\n"
     ]
    },
    {
     "name": "stderr",
     "output_type": "stream",
     "text": [
      "/usr/local/lib/python3.7/dist-packages/autograd/tracer.py:48: RuntimeWarning: divide by zero encountered in log\n",
      "  return f_raw(*args, **kwargs)\n",
      "/usr/local/lib/python3.7/dist-packages/autograd/tracer.py:48: RuntimeWarning: invalid value encountered in multiply\n",
      "  return f_raw(*args, **kwargs)\n",
      "/usr/local/lib/python3.7/dist-packages/autograd/numpy/numpy_vjps.py:78: RuntimeWarning: divide by zero encountered in true_divide\n",
      "  defvjp(anp.log,    lambda ans, x : lambda g: g / x)\n",
      "/usr/local/lib/python3.7/dist-packages/autograd/numpy/numpy_vjps.py:78: RuntimeWarning: invalid value encountered in true_divide\n",
      "  defvjp(anp.log,    lambda ans, x : lambda g: g / x)\n",
      "/usr/local/lib/python3.7/dist-packages/autograd/numpy/numpy_vjps.py:53: RuntimeWarning: overflow encountered in square\n",
      "  lambda ans, x, y : unbroadcast_f(y, lambda g: - g * x / y**2))\n",
      "/usr/local/lib/python3.7/dist-packages/autograd/numpy/numpy_vjps.py:53: RuntimeWarning: invalid value encountered in true_divide\n",
      "  lambda ans, x, y : unbroadcast_f(y, lambda g: - g * x / y**2))\n"
     ]
    },
    {
     "name": "stdout",
     "output_type": "stream",
     "text": [
      "Cross Entropy loss: nan\n",
      "Fold 5\n"
     ]
    },
    {
     "name": "stderr",
     "output_type": "stream",
     "text": [
      "/usr/local/lib/python3.7/dist-packages/autograd/tracer.py:48: RuntimeWarning: divide by zero encountered in log\n",
      "  return f_raw(*args, **kwargs)\n",
      "/usr/local/lib/python3.7/dist-packages/autograd/tracer.py:48: RuntimeWarning: invalid value encountered in multiply\n",
      "  return f_raw(*args, **kwargs)\n",
      "/usr/local/lib/python3.7/dist-packages/autograd/numpy/numpy_vjps.py:78: RuntimeWarning: invalid value encountered in true_divide\n",
      "  defvjp(anp.log,    lambda ans, x : lambda g: g / x)\n"
     ]
    },
    {
     "name": "stdout",
     "output_type": "stream",
     "text": [
      "Cross Entropy loss: nan\n",
      "[[0. 0. 0. 0. 0.]]\n"
     ]
    }
   ],
   "source": [
    "# Load the data\n",
    "cancer = load_breast_cancer()\n",
    "X, y =cancer.data,cancer.target\n",
    "\n",
    "## Cross-validation based Logistic regression\n",
    "ksplits = 5\n",
    "kfold = KFold(n_splits = ksplits )\n",
    "lr_eta = [1e-1]\n",
    "\n",
    "est_test_acc = np.zeros((len(lr_eta), ksplits ))\n",
    "\n",
    "for n_lr,lr in  enumerate(lr_eta):\n",
    "\n",
    "  ## split the data into 5 folds and evaluate performance \n",
    "  for fold, (train_ind, test_ind) in enumerate(kfold.split(X)):\n",
    "    print('Fold', fold+1)\n",
    "    X_train , X_test = X[train_ind], X[test_ind]\n",
    "    y_train, y_test = y[train_ind], y[test_ind]\n",
    "\n",
    "    ## Create polynomials, if necessary and z-scale data\n",
    "    X_train_scaled, X_test_scaled  = design_matrix(X_train, X_test)\n",
    "    \n",
    "    # Randomly initialize the beta values\n",
    "    beta = np.random.randn(X_train_scaled.shape[1],1)\n",
    "\n",
    "    # optimize betas using simple_sgd\n",
    "    beta_opt =  simple_SGD(X_train_scaled, y_train, beta, lr_eta = lr)\n",
    "\n",
    "    print('Cross Entropy loss:',cross_entropy_loss(X_train_scaled, y_train, beta_opt))\n",
    "    \n",
    "    # find accuracy on test set with beta_opt\n",
    "    y_pred = X_test_scaled @ beta_opt\n",
    "    \n",
    "    est_test_acc[n_lr , fold] = np.mean(y_pred== y_test)\n",
    "\n",
    "\n",
    "\n",
    "print(est_test_acc)\n",
    "\n"
   ]
  },
  {
   "cell_type": "markdown",
   "metadata": {
    "id": "TQBn77txpCMh"
   },
   "source": [
    "## Part g) Scikit Learn's Logistic Regression"
   ]
  },
  {
   "cell_type": "code",
   "execution_count": 4,
   "metadata": {
    "colab": {
     "base_uri": "https://localhost:8080/"
    },
    "id": "JvGPhnKjCUfY",
    "outputId": "934162f0-5e85-45e6-83c3-41bd59977d98"
   },
   "outputs": [
    {
     "name": "stdout",
     "output_type": "stream",
     "text": [
      "Test set accuracy with Logistic Regression: 0.95\n"
     ]
=======
      "cell_type": "code",
      "metadata": {
        "id": "JvGPhnKjCUfY",
        "colab": {
          "base_uri": "https://localhost:8080/"
        },
        "outputId": "edfb2436-eb91-4d73-c097-b54523a643a2"
      },
      "source": [
        "import matplotlib.pyplot as plt\n",
        "import numpy as np\n",
        "from sklearn.model_selection import  train_test_split \n",
        "from sklearn.datasets import load_breast_cancer\n",
        "from sklearn.linear_model import LogisticRegression\n",
        "\n",
        "# Load the data\n",
        "cancer = load_breast_cancer()\n",
        "\n",
        "X_train, X_test, y_train, y_test = train_test_split(cancer.data,cancer.target,random_state=0)\n",
        "print(X_train.shape)\n",
        "print(X_test.shape)\n",
        "# Logistic Regression\n",
        "logreg = LogisticRegression(solver='lbfgs')\n",
        "logreg.fit(X_train, y_train)\n",
        "print(\"Test set accuracy with Logistic Regression: {:.2f}\".format(logreg.score(X_test,y_test)))\n",
        "\n",
        "\n",
        "#now scale the data\n",
        "from sklearn.preprocessing import StandardScaler\n",
        "scaler = StandardScaler()\n",
        "scaler.fit(X_train)\n",
        "X_train_scaled = scaler.transform(X_train)\n",
        "X_test_scaled = scaler.transform(X_test)\n",
        "# Logistic Regression\n",
        "logreg.fit(X_train_scaled, y_train)\n",
        "print(\"Test set accuracy Logistic Regression with scaled data: {:.2f}\".format(logreg.score(X_test_scaled,y_test)))"
      ],
      "execution_count": 5,
      "outputs": [
        {
          "output_type": "stream",
          "name": "stdout",
          "text": [
            "(426, 30)\n",
            "(143, 30)\n",
            "Test set accuracy with Logistic Regression: 0.94\n",
            "Test set accuracy Logistic Regression with scaled data: 0.96\n"
          ]
        },
        {
          "output_type": "stream",
          "name": "stderr",
          "text": [
            "/usr/local/lib/python3.7/dist-packages/sklearn/linear_model/_logistic.py:818: ConvergenceWarning: lbfgs failed to converge (status=1):\n",
            "STOP: TOTAL NO. of ITERATIONS REACHED LIMIT.\n",
            "\n",
            "Increase the number of iterations (max_iter) or scale the data as shown in:\n",
            "    https://scikit-learn.org/stable/modules/preprocessing.html\n",
            "Please also refer to the documentation for alternative solver options:\n",
            "    https://scikit-learn.org/stable/modules/linear_model.html#logistic-regression\n",
            "  extra_warning_msg=_LOGISTIC_SOLVER_CONVERGENCE_MSG,\n"
          ]
        }
      ]
>>>>>>> d3c441ce0e5cf21490c7da953b571ce6ab980181
    }
   ],
   "source": [
    "# Logistic Regression\n",
    "logreg = LogisticRegression(solver='lbfgs', max_iter= 1000)\n",
    "logreg.fit(X_train_scaled, y_train)\n",
    "print(\"Test set accuracy with Logistic Regression: {:.2f}\".format(logreg.score(X_test_scaled,y_test)))\n"
   ]
  },
  {
   "cell_type": "code",
   "execution_count": 4,
   "metadata": {
    "id": "87ydAoshx1oe"
   },
   "outputs": [],
   "source": []
  }
 ],
 "metadata": {
  "colab": {
   "collapsed_sections": [],
   "name": "Task_g.ipynb",
   "provenance": []
  },
  "kernelspec": {
   "display_name": "Python 3 (ipykernel)",
   "language": "python",
   "name": "python3"
  },
  "language_info": {
   "codemirror_mode": {
    "name": "ipython",
    "version": 3
   },
   "file_extension": ".py",
   "mimetype": "text/x-python",
   "name": "python",
   "nbconvert_exporter": "python",
   "pygments_lexer": "ipython3",
   "version": "3.9.7"
  }
 },
 "nbformat": 4,
 "nbformat_minor": 4
}

{
 "cells": [
  {
   "cell_type": "code",
   "execution_count": 14,
   "id": "0044c249-25fd-43d9-82a5-ec0b0736cc11",
   "metadata": {},
   "outputs": [],
   "source": [
    "import numpy as np\n",
    "import matplotlib.pyplot as plt\n",
    "from sklearn import svm\n",
    "from sklearn.datasets import load_breast_cancer\n",
    "from sklearn.preprocessing import StandardScaler\n",
    "from sklearn.model_selection import KFold\n",
    "from sklearn.model_selection import train_test_split\n",
    "\n",
    "from utils import *\n",
    "from models import *\n",
    "from optimizers import *"
   ]
  },
  {
   "cell_type": "code",
   "execution_count": 27,
   "id": "f2501dde-4c50-4da1-b1e0-d3785b2dbe3f",
   "metadata": {},
   "outputs": [
    {
     "name": "stdout",
     "output_type": "stream",
     "text": [
      "(569, 30)\n",
      "Highest accuracy is: 0.97\n"
     ]
    },
    {
     "data": {
      "text/plain": [
       "<AxesSubplot:xlabel='lambda', ylabel='Accuracy'>"
      ]
     },
     "execution_count": 27,
     "metadata": {},
     "output_type": "execute_result"
    },
    {
     "data": {
      "image/png": "[encoded data removed]",
      "text/plain": [
       "<Figure size 432x288 with 1 Axes>"
      ]
     },
     "metadata": {
      "needs_background": "light"
     },
     "output_type": "display_data"
    }
   ],
   "source": [
    "# Definitions\n",
    "c_values = [1e-1, 1e0, 1e1, 1e2, 1e3, 1e4, 1e5]\n",
    "ksplits = 5\n",
    "\n",
    "np.random.seed(15)\n",
    "c_values.reverse()\n",
    "\n",
    "# Load dataset\n",
    "dataset = load_breast_cancer()\n",
    "X, y = dataset.data, dataset.target\n",
    "\n",
    "print(X.shape)\n",
    "\n",
    "# Cross-validation \n",
    "kfold = KFold(n_splits=ksplits, shuffle=True)\n",
    "\n",
    "# Iterate over folds and c values\n",
    "accs = []\n",
    "for c in c_values:\n",
    "    \n",
    "    folds_acc = []\n",
    "    for fold, (train_ind, test_ind) in enumerate(kfold.split(X)):\n",
    "\n",
    "        # Get train and test data for this fold\n",
    "        X_train , X_test = X[train_ind], X[test_ind]\n",
    "        y_train, y_test = y[train_ind], y[test_ind]\n",
    "\n",
    "        # Scale data\n",
    "        scaler = StandardScaler().fit(X_train)\n",
    "        X_train_scaled = scaler.transform(X_train)\n",
    "        X_test_scaled = scaler.transform(X_test)\n",
    "\n",
    "        # Instantiate svm classifier\n",
    "        clf = svm.SVC(C=c, random_state=2)\n",
    "\n",
    "        # Fit to data\n",
    "        clf.fit(X_train_scaled, y_train)\n",
    "\n",
    "        # Predict on test set\n",
    "        y_hat = clf.predict(X_test_scaled)\n",
    "        \n",
    "        # Determine accuracy\n",
    "        acc = np.mean(y_hat == y_test)    \n",
    "        folds_acc.append(acc)\n",
    "        \n",
    "    accs.append(folds_acc)\n",
    "\n",
    "# Mean over folds\n",
    "accs = np.mean(accs, axis=1)\n",
    "\n",
    "print('Highest accuracy is: {}'.format(np.round(np.max(accs), 2)))\n",
    "    \n",
    "# To compare with logistic regression, the c-values (regularization parameter) are inversed.\n",
    "# Acc. to sklearn: alpha (or lambda) = 1/C\n",
    "lambda_values = [1/c for c in c_values]\n",
    "\n",
    "# Plot to save\n",
    "plot_metric(y=accs, x=np.arange(len(lambda_values)), nx_ticks=lambda_values, save=True, x_label='lambda', y_label='Accuracy', \n",
    "           name='h_test_accuracy', y_limit=[0.9, 1])\n",
    "\n"
   ]
  },
  {
   "cell_type": "code",
   "execution_count": 28,
   "id": "343d0088-7192-4f32-bda6-02d6ee36a488",
   "metadata": {},
   "outputs": [
    {
     "name": "stdout",
     "output_type": "stream",
     "text": [
      "(569, 30)\n",
      "Highest accuracy is: 0.98\n"
     ]
    },
    {
     "data": {
      "text/plain": [
       "<AxesSubplot:xlabel='lambda', ylabel='Accuracy'>"
      ]
     },
     "execution_count": 28,
     "metadata": {},
     "output_type": "execute_result"
    },
    {
     "data": {
      "image/png": "[encoded data removed]",
      "text/plain": [
       "<Figure size 432x288 with 1 Axes>"
      ]
     },
     "metadata": {
      "needs_background": "light"
     },
     "output_type": "display_data"
    }
   ],
   "source": [
    "# Take lambda values from before \n",
    "lbds = lambda_values\n",
    "\n",
    "# Use best performing learning rate from task g)\n",
    "lr = 0.01\n",
    "\n",
    "# Load dataset\n",
    "dataset = load_breast_cancer()\n",
    "X, y = dataset.data, dataset.target\n",
    "\n",
    "print(X.shape)\n",
    "\n",
    "# Cross-validation \n",
    "kfold = KFold(n_splits=ksplits, shuffle=True)\n",
    "\n",
    "# Iterate over folds and c values\n",
    "accs_lr = []\n",
    "for lbd in lbds:\n",
    "    \n",
    "    folds_acc = []\n",
    "    for fold, (train_ind, test_ind) in enumerate(kfold.split(X)):\n",
    "\n",
    "        # Get train and test data for this fold\n",
    "        X_train , X_test = X[train_ind], X[test_ind]\n",
    "        y_train, y_test = y[train_ind], y[test_ind]\n",
    "\n",
    "        # Scale data\n",
    "        scaler = StandardScaler().fit(X_train)\n",
    "        X_train_scaled = scaler.transform(X_train)\n",
    "        X_test_scaled = scaler.transform(X_test)\n",
    "        \n",
    "        # Instantiate model\n",
    "        logreg = LogisticRegression(fit_intercept=False,\n",
    "                      dimension= X_train_scaled.shape[1],\n",
    "                      random_init=True,\n",
    "                      reduction='mean',\n",
    "                      l2_reg =True,\n",
    "                      lbd=lbd)\n",
    "                        \n",
    "        optimizer = SGD(lr=lr)\n",
    "        \n",
    "        logreg.train(X_train_scaled, y_train, optimizer, batch_size=1, epochs=1000)     \n",
    "\n",
    "        # find accuracy on test set with beta_opt\n",
    "        y_pred_prob = np.zeros((len(y_test),2))\n",
    "        y_pred_prob[:,1] = logreg.predict(X_test_scaled)\n",
    "        y_pred_prob[:,0] = 1-logreg.predict(X_test_scaled)\n",
    "        \n",
    "        # Determine accuracy\n",
    "        acc = np.mean(np.argmax(y_pred_prob, axis=1)== y_test)\n",
    "        folds_acc.append(acc)\n",
    "        \n",
    "    accs_lr.append(folds_acc)\n",
    "    \n",
    "# Mean over folds\n",
    "accs_lr = np.mean(accs_lr, axis=1)\n",
    "\n",
    "print('Highest accuracy is: {}'.format(np.round(np.max(accs_lr), 2)))\n",
    "\n",
    "y = [accs, accs_lr]\n",
    "legend = ['SVM', 'Logistic regression']\n",
    "\n",
    "# Plot to save\n",
    "plot_metric(y=y, x=np.arange(len(lambda_values)), nx_ticks=lambda_values, save=True, x_label='lambda', y_label='Accuracy', \n",
    "           name='h_comparison', legend=legend, y_limit=[0.9, 1])"
   ]
  },
  {
   "cell_type": "code",
   "execution_count": null,
   "id": "fdaf3952-14f7-4de3-8c77-2818ed4e9831",
   "metadata": {},
   "outputs": [],
   "source": []
  }
 ],
 "metadata": {
  "kernelspec": {
   "display_name": "Python 3 (ipykernel)",
   "language": "python",
   "name": "python3"
  },
  "language_info": {
   "codemirror_mode": {
    "name": "ipython",
    "version": 3
   },
   "file_extension": ".py",
   "mimetype": "text/x-python",
   "name": "python",
   "nbconvert_exporter": "python",
   "pygments_lexer": "ipython3",
   "version": "3.9.7"
  }
 },
 "nbformat": 4,
 "nbformat_minor": 5
}

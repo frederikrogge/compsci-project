{
  "nbformat": 4,
  "nbformat_minor": 0,
  "metadata": {
    "colab": {
      "name": "Task_g.ipynb",
      "provenance": [],
      "collapsed_sections": []
    },
    "kernelspec": {
      "name": "python3",
      "display_name": "Python 3"
    },
    "language_info": {
      "name": "python"
    }
  },
  "cells": [
    {
      "cell_type": "code",
      "metadata": {
        "id": "9g1YINo8MTRV"
      },
      "source": [
        "import matplotlib.pyplot as plt\n",
        "from sklearn.model_selection import train_test_split\n",
        "from sklearn.datasets import load_breast_cancer\n",
        "from sklearn.linear_model import LogisticRegression\n",
        "from sklearn.preprocessing import StandardScaler\n",
        "from sklearn.preprocessing import PolynomialFeatures\n",
        "from sklearn.model_selection import KFold\n",
        "import autograd.numpy as np\n",
        "from autograd import grad\n",
        "                                                                           \n",
        "np.random.seed(100)\n"
      ],
      "execution_count": 1,
      "outputs": []
    },
    {
      "cell_type": "code",
      "metadata": {
        "id": "dNs2OoSGwvtp"
      },
      "source": [
        "def cross_entropy_loss(X, y, beta ):\n",
        "  if X.shape[0] != len(y):\n",
        "    raise TypeError(\"The number of datapoints must match between X and y\")\n",
        "  else:\n",
        "    n = len(y)\n",
        "    y = y.reshape(-1,1)\n",
        "    Lambda = 0.001  # l2 regularization weight\n",
        "    p = np.exp(X @ beta)/ (1+ np.exp(X @ beta))\n",
        "    cost = np.sum((y* np.log(p) + (1-y)*np.log(1-p))) + Lambda*(np.sum(beta**2))\n",
        "  return cost\n",
        "\n",
        "\n",
        "def design_matrix(x_train, x_test):\n",
        "  # Introduce bias and polynomials, if necessary\n",
        "  poly = PolynomialFeatures(degree = 1)\n",
        "  X_train= poly.fit_transform(x_train)\n",
        "  X_test= poly.fit_transform(x_test)\n",
        "\n",
        "  # Z-score the design matrix except the bias\n",
        "  mean = np.mean(X_train[:,1:] , axis=0)\n",
        "  std = np.std(X_train[:,1:] , axis=0) \n",
        "\n",
        "  X_train[:,1:] = X_train[:,1:] - mean / std\n",
        "  X_test[:,1:] = X_test[:,1:] - mean / std\n",
        "\n",
        "  return X_train , X_test\n",
        "\n",
        "\n",
        "def simple_SGD(X_train_scaled, y_train, beta ,lr_eta = 0.1):\n",
        "  if X_train_scaled.shape[0] != len(y_train):\n",
        "    raise TypeError(\"The number of datapoints must match between X and y\")\n",
        "  else:\n",
        "    n = len(y_train)  #number of datapoints\n",
        "    M = 5  #size of each minibatch\n",
        "    m = int(n/M) #number of minibatches\n",
        "    n_epochs = 100 #number of epochs\n",
        "    batch_indices= {}\n",
        "\n",
        "    kf= KFold(n_splits = m)\n",
        "    for k,(_, test_index) in enumerate(kf.split(X_train_scaled)):\n",
        "      batch_indices[k] = test_index\n",
        "          \n",
        "    for epoch in range(1,n_epochs+1):\n",
        "      for i in range(m):\n",
        "        chosen_batch = np.random.randint(m)\n",
        "\n",
        "        #Pick minibatch corresponding to 'chosen_batch'\n",
        "        X_train_minibatch = X_train_scaled[batch_indices[chosen_batch ]]\n",
        "        y_train_minibatch = y_train[batch_indices[chosen_batch ]]     \n",
        "\n",
        "        #Compute the gradient using the data in minibatch Bk\n",
        "        # Compute gradients using grad\n",
        "        #p = np.exp(X_train_minibatch @ beta) / (1 + np.exp(X_train_minibatch @ beta))\n",
        "        #gradients = - (X_train_minibatch.T @ (y_train_minibatch.reshape(-1,1) - p.reshape(-1,1)) + (2*0.001*beta) )\n",
        "\n",
        "        gradients = grad(cross_entropy_loss,2)\n",
        "        \n",
        "        #Compute new suggestion for beta\n",
        "        beta -= lr_eta*gradients(X_train_minibatch, y_train_minibatch, beta)\n",
        "\n",
        "  return beta\n",
        "\n",
        "\n",
        "\n",
        "\n",
        "\n"
      ],
      "execution_count": 2,
      "outputs": []
    },
    {
      "cell_type": "markdown",
      "metadata": {
        "id": "eMVDJotso2DK"
      },
      "source": [
        "## Part g) Logistic Regression code (own)"
      ]
    },
    {
      "cell_type": "code",
      "metadata": {
        "colab": {
          "base_uri": "https://localhost:8080/"
        },
        "id": "VP_brga30CMv",
        "outputId": "10db919b-96cb-4cac-fc55-281f6f384037"
      },
      "source": [
        "# Load the data\n",
        "cancer = load_breast_cancer()\n",
        "X, y =cancer.data,cancer.target\n",
        "\n",
        "## Cross-validation based Logistic regression\n",
        "ksplits = 5\n",
        "kfold = KFold(n_splits = ksplits )\n",
        "lr_eta = [1e-1]\n",
        "\n",
        "est_test_acc = np.zeros((len(lr_eta), ksplits ))\n",
        "\n",
        "for n_lr,lr in  enumerate(lr_eta):\n",
        "\n",
        "  ## split the data into 5 folds and evaluate performance \n",
        "  for fold, (train_ind, test_ind) in enumerate(kfold.split(X)):\n",
        "    print('Fold', fold+1)\n",
        "    X_train , X_test = X[train_ind], X[test_ind]\n",
        "    y_train, y_test = y[train_ind], y[test_ind]\n",
        "\n",
        "    ## Create polynomials, if necessary and z-scale data\n",
        "    X_train_scaled, X_test_scaled  = design_matrix(X_train, X_test)\n",
        "    \n",
        "    # Randomly initialize the beta values\n",
        "    beta = np.random.randn(X_train_scaled.shape[1],1)\n",
        "\n",
        "    # optimize betas using simple_sgd\n",
        "    beta_opt =  simple_SGD(X_train_scaled, y_train, beta, lr_eta = lr)\n",
        "\n",
        "    print('Cross Entropy loss:',cross_entropy_loss(X_train_scaled, y_train, beta_opt))\n",
        "    \n",
        "    # find accuracy on test set with beta_opt\n",
        "    y_pred = X_test_scaled @ beta_opt\n",
        "    \n",
        "    est_test_acc[n_lr , fold] = np.mean(y_pred== y_test)\n",
        "\n",
        "\n",
        "\n",
        "print(est_test_acc)\n",
        "\n"
      ],
      "execution_count": 3,
      "outputs": [
        {
          "output_type": "stream",
          "name": "stdout",
          "text": [
            "Fold 1\n"
          ]
        },
        {
          "output_type": "stream",
          "name": "stderr",
          "text": [
            "/usr/local/lib/python3.7/dist-packages/autograd/tracer.py:48: RuntimeWarning: overflow encountered in exp\n",
            "  return f_raw(*args, **kwargs)\n",
            "/usr/local/lib/python3.7/dist-packages/autograd/tracer.py:48: RuntimeWarning: invalid value encountered in true_divide\n",
            "  return f_raw(*args, **kwargs)\n",
            "/usr/local/lib/python3.7/dist-packages/autograd/tracer.py:48: RuntimeWarning: divide by zero encountered in log\n",
            "  return f_raw(*args, **kwargs)\n",
            "/usr/local/lib/python3.7/dist-packages/autograd/tracer.py:48: RuntimeWarning: invalid value encountered in multiply\n",
            "  return f_raw(*args, **kwargs)\n",
            "/usr/local/lib/python3.7/dist-packages/autograd/numpy/numpy_vjps.py:78: RuntimeWarning: invalid value encountered in true_divide\n",
            "  defvjp(anp.log,    lambda ans, x : lambda g: g / x)\n",
            "/usr/local/lib/python3.7/dist-packages/autograd/numpy/numpy_vjps.py:53: RuntimeWarning: overflow encountered in square\n",
            "  lambda ans, x, y : unbroadcast_f(y, lambda g: - g * x / y**2))\n"
          ]
        },
        {
          "output_type": "stream",
          "name": "stdout",
          "text": [
            "Cross Entropy loss: nan\n",
            "Fold 2\n"
          ]
        },
        {
          "output_type": "stream",
          "name": "stderr",
          "text": [
            "/usr/local/lib/python3.7/dist-packages/autograd/tracer.py:48: RuntimeWarning: divide by zero encountered in log\n",
            "  return f_raw(*args, **kwargs)\n",
            "/usr/local/lib/python3.7/dist-packages/autograd/tracer.py:48: RuntimeWarning: invalid value encountered in multiply\n",
            "  return f_raw(*args, **kwargs)\n",
            "/usr/local/lib/python3.7/dist-packages/autograd/numpy/numpy_vjps.py:78: RuntimeWarning: invalid value encountered in true_divide\n",
            "  defvjp(anp.log,    lambda ans, x : lambda g: g / x)\n"
          ]
        },
        {
          "output_type": "stream",
          "name": "stdout",
          "text": [
            "Cross Entropy loss: nan\n",
            "Fold 3\n"
          ]
        },
        {
          "output_type": "stream",
          "name": "stderr",
          "text": [
            "/usr/local/lib/python3.7/dist-packages/autograd/tracer.py:48: RuntimeWarning: divide by zero encountered in log\n",
            "  return f_raw(*args, **kwargs)\n",
            "/usr/local/lib/python3.7/dist-packages/autograd/numpy/numpy_vjps.py:78: RuntimeWarning: divide by zero encountered in true_divide\n",
            "  defvjp(anp.log,    lambda ans, x : lambda g: g / x)\n",
            "/usr/local/lib/python3.7/dist-packages/autograd/numpy/numpy_vjps.py:53: RuntimeWarning: invalid value encountered in multiply\n",
            "  lambda ans, x, y : unbroadcast_f(y, lambda g: - g * x / y**2))\n",
            "/usr/local/lib/python3.7/dist-packages/autograd/numpy/numpy_vjps.py:75: RuntimeWarning: invalid value encountered in multiply\n",
            "  defvjp(anp.exp,    lambda ans, x : lambda g: ans * g)\n"
          ]
        },
        {
          "output_type": "stream",
          "name": "stdout",
          "text": [
            "Cross Entropy loss: nan\n",
            "Fold 4\n"
          ]
        },
        {
          "output_type": "stream",
          "name": "stderr",
          "text": [
            "/usr/local/lib/python3.7/dist-packages/autograd/tracer.py:48: RuntimeWarning: divide by zero encountered in log\n",
            "  return f_raw(*args, **kwargs)\n",
            "/usr/local/lib/python3.7/dist-packages/autograd/tracer.py:48: RuntimeWarning: invalid value encountered in multiply\n",
            "  return f_raw(*args, **kwargs)\n",
            "/usr/local/lib/python3.7/dist-packages/autograd/numpy/numpy_vjps.py:78: RuntimeWarning: divide by zero encountered in true_divide\n",
            "  defvjp(anp.log,    lambda ans, x : lambda g: g / x)\n",
            "/usr/local/lib/python3.7/dist-packages/autograd/numpy/numpy_vjps.py:78: RuntimeWarning: invalid value encountered in true_divide\n",
            "  defvjp(anp.log,    lambda ans, x : lambda g: g / x)\n",
            "/usr/local/lib/python3.7/dist-packages/autograd/numpy/numpy_vjps.py:53: RuntimeWarning: overflow encountered in square\n",
            "  lambda ans, x, y : unbroadcast_f(y, lambda g: - g * x / y**2))\n",
            "/usr/local/lib/python3.7/dist-packages/autograd/numpy/numpy_vjps.py:53: RuntimeWarning: invalid value encountered in true_divide\n",
            "  lambda ans, x, y : unbroadcast_f(y, lambda g: - g * x / y**2))\n"
          ]
        },
        {
          "output_type": "stream",
          "name": "stdout",
          "text": [
            "Cross Entropy loss: nan\n",
            "Fold 5\n"
          ]
        },
        {
          "output_type": "stream",
          "name": "stderr",
          "text": [
            "/usr/local/lib/python3.7/dist-packages/autograd/tracer.py:48: RuntimeWarning: divide by zero encountered in log\n",
            "  return f_raw(*args, **kwargs)\n",
            "/usr/local/lib/python3.7/dist-packages/autograd/tracer.py:48: RuntimeWarning: invalid value encountered in multiply\n",
            "  return f_raw(*args, **kwargs)\n",
            "/usr/local/lib/python3.7/dist-packages/autograd/numpy/numpy_vjps.py:78: RuntimeWarning: invalid value encountered in true_divide\n",
            "  defvjp(anp.log,    lambda ans, x : lambda g: g / x)\n"
          ]
        },
        {
          "output_type": "stream",
          "name": "stdout",
          "text": [
            "Cross Entropy loss: nan\n",
            "[[0. 0. 0. 0. 0.]]\n"
          ]
        }
      ]
    },
    {
      "cell_type": "markdown",
      "metadata": {
        "id": "TQBn77txpCMh"
      },
      "source": [
        "## Part g) Scikit Learn's Logistic Regression"
      ]
    },
    {
      "cell_type": "code",
      "metadata": {
        "id": "JvGPhnKjCUfY",
        "colab": {
          "base_uri": "https://localhost:8080/"
        },
        "outputId": "934162f0-5e85-45e6-83c3-41bd59977d98"
      },
      "source": [
        "# Logistic Regression\n",
        "logreg = LogisticRegression(solver='lbfgs', max_iter= 1000)\n",
        "logreg.fit(X_train_scaled, y_train)\n",
        "print(\"Test set accuracy with Logistic Regression: {:.2f}\".format(logreg.score(X_test_scaled,y_test)))\n"
      ],
      "execution_count": 4,
      "outputs": [
        {
          "output_type": "stream",
          "name": "stdout",
          "text": [
            "Test set accuracy with Logistic Regression: 0.95\n"
          ]
        }
      ]
    },
    {
      "cell_type": "code",
      "metadata": {
        "id": "87ydAoshx1oe"
      },
      "source": [
        ""
      ],
      "execution_count": 4,
      "outputs": []
    }
  ]
}
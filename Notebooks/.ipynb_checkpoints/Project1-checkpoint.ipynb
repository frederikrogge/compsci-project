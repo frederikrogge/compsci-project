{
 "cells": [
  {
   "cell_type": "markdown",
   "id": "b316eda3",
   "metadata": {},
   "source": [
    "# Project 1\n",
    "\n",
    "Homa Priya Tarigopula, Mouhammad Abu Rasheed and Frederik Rogge"
   ]
  },
  {
   "cell_type": "markdown",
   "id": "80d0a591",
   "metadata": {},
   "source": [
    "### Task 1"
   ]
  },
  {
   "cell_type": "code",
   "execution_count": null,
   "id": "53c70370",
   "metadata": {},
   "outputs": [],
   "source": []
  }
 ],
 "metadata": {
  "kernelspec": {
   "display_name": "Python 3 (ipykernel)",
   "language": "python",
   "name": "python3"
  },
  "language_info": {
   "codemirror_mode": {
    "name": "ipython",
    "version": 3
   },
   "file_extension": ".py",
   "mimetype": "text/x-python",
   "name": "python",
   "nbconvert_exporter": "python",
   "pygments_lexer": "ipython3",
   "version": "3.9.7"
  }
 },
 "nbformat": 4,
 "nbformat_minor": 5
}

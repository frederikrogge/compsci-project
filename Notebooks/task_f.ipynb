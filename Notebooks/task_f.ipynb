{
 "cells": [
  {
   "cell_type": "markdown",
   "id": "51465262-d7b7-473f-b617-bb7f2513898d",
   "metadata": {},
   "source": [
    "# Task F"
   ]
  },
  {
   "cell_type": "code",
   "execution_count": 2,
   "id": "279458e4-0e20-4db0-ab1d-b66e745141d0",
   "metadata": {},
   "outputs": [
    {
     "ename": "NameError",
     "evalue": "name 'X' is not defined",
     "output_type": "error",
     "traceback": [
      "\u001b[0;31m---------------------------------------------------------------------------\u001b[0m",
      "\u001b[0;31mNameError\u001b[0m                                 Traceback (most recent call last)",
      "\u001b[0;32m/tmp/ipykernel_76751/509641764.py\u001b[0m in \u001b[0;36m<module>\u001b[0;34m\u001b[0m\n\u001b[1;32m     50\u001b[0m \u001b[0;34m\u001b[0m\u001b[0m\n\u001b[1;32m     51\u001b[0m     \u001b[0;31m# Print current error\u001b[0m\u001b[0;34m\u001b[0m\u001b[0;34m\u001b[0m\u001b[0m\n\u001b[0;32m---> 52\u001b[0;31m     \u001b[0mY_hat\u001b[0m \u001b[0;34m=\u001b[0m \u001b[0mmodel\u001b[0m\u001b[0;34m.\u001b[0m\u001b[0mpredict\u001b[0m\u001b[0;34m(\u001b[0m\u001b[0mX\u001b[0m\u001b[0;34m)\u001b[0m\u001b[0;34m\u001b[0m\u001b[0;34m\u001b[0m\u001b[0m\n\u001b[0m\u001b[1;32m     53\u001b[0m     \u001b[0mmse\u001b[0m \u001b[0;34m=\u001b[0m \u001b[0mMSE\u001b[0m\u001b[0;34m(\u001b[0m\u001b[0mx_test\u001b[0m\u001b[0;34m,\u001b[0m \u001b[0my_test\u001b[0m\u001b[0;34m)\u001b[0m\u001b[0;34m\u001b[0m\u001b[0;34m\u001b[0m\u001b[0m\n\u001b[1;32m     54\u001b[0m     \u001b[0mprint\u001b[0m\u001b[0;34m(\u001b[0m\u001b[0mmse\u001b[0m\u001b[0;34m)\u001b[0m\u001b[0;34m\u001b[0m\u001b[0;34m\u001b[0m\u001b[0m\n",
      "\u001b[0;31mNameError\u001b[0m: name 'X' is not defined"
     ]
    }
   ],
   "source": [
    "import numpy as np\n",
    "from sklearn.preprocessing import PolynomialFeatures\n",
    "from sklearn.model_selection import train_test_split\n",
    "\n",
    "from models import *\n",
    "from utils import * \n",
    "\n",
    "# Define parameters\n",
    "degree = 5\n",
    "epochs = 100 \n",
    "lr = 0.001\n",
    "batch_size = 10\n",
    "\n",
    "# Create data\n",
    "x = np.arange(0, 1, 0.05)\n",
    "y = np.arange(0, 1, 0.05)\n",
    "x, y = np.meshgrid(x, y)\n",
    "\n",
    "# Compute z\n",
    "z = FrankeFunction(x, y)\n",
    "\n",
    "# Create features as pairs of (x, y)\n",
    "features = np.stack([x.ravel(), y.ravel()], axis=1)\n",
    "outputs = z.ravel()\n",
    "\n",
    "# Split dataset into train and test set\n",
    "x_train, x_test, y_train, y_test = train_test_split(features, outputs, test_size=0.2, random_state=20)\n",
    "\n",
    "# Get polynomial features\n",
    "poly = PolynomialFeatures(degree, include_bias=True)\n",
    "x_train = poly.fit_transform(x_train)\n",
    "x_test = poly.transform(x_test)\n",
    "\n",
    "model = LinearRegression(dimension=x_train.shape[1], random_init=True)\n",
    "\n",
    "# Iterate over epochs\n",
    "for _ in range(epochs):\n",
    "\n",
    "    # Generate batches\n",
    "    x_batches, y_batches = generate_batches(x_train, y_train, batch_size)\n",
    "\n",
    "    # Iterate through batches\n",
    "    for x, y in zip(x_batches, y_batches):\n",
    "        \n",
    "        # Determine the gradient for this batch\n",
    "        gradient = model.gradient(x, y)\n",
    "        \n",
    "        # Update parameters\n",
    "        model.beta = model.beta - lr * gradient\n",
    "\n",
    "    # Print current error\n",
    "    y_hat = model.predict(x_test)\n",
    "    mse = MSE(y_test, y_hat)\n",
    "    print(mse)\n"
   ]
  },
  {
   "cell_type": "code",
   "execution_count": null,
   "id": "29c38dc1-6fbc-4905-adfd-963a2a431b12",
   "metadata": {},
   "outputs": [],
   "source": []
  },
  {
   "cell_type": "code",
   "execution_count": null,
   "id": "7cb800d3-6c20-4322-9c46-71475bcc0bfa",
   "metadata": {},
   "outputs": [],
   "source": []
  }
 ],
 "metadata": {
  "kernelspec": {
   "display_name": "Python 3 (ipykernel)",
   "language": "python",
   "name": "python3"
  },
  "language_info": {
   "codemirror_mode": {
    "name": "ipython",
    "version": 3
   },
   "file_extension": ".py",
   "mimetype": "text/x-python",
   "name": "python",
   "nbconvert_exporter": "python",
   "pygments_lexer": "ipython3",
   "version": "3.9.7"
  }
 },
 "nbformat": 4,
 "nbformat_minor": 5
}
